{
  "nbformat": 4,
  "nbformat_minor": 0,
  "metadata": {
    "colab": {
      "name": "GodsEye-SimpleModel.ipynb",
      "provenance": [],
      "collapsed_sections": [],
      "toc_visible": true
    },
    "kernelspec": {
      "name": "python3",
      "display_name": "Python 3"
    },
    "accelerator": "GPU"
  },
  "cells": [
    {
      "cell_type": "markdown",
      "metadata": {
        "id": "4ePil4Jc0YuT",
        "colab_type": "text"
      },
      "source": [
        "# An Initial Model\n",
        "\n",
        "First attempt at God's Eye "
      ]
    },
    {
      "cell_type": "markdown",
      "metadata": {
        "id": "SFKRWMJh07d1",
        "colab_type": "text"
      },
      "source": [
        "**IMPORTS:**"
      ]
    },
    {
      "cell_type": "code",
      "metadata": {
        "id": "w2EtsFym00eT",
        "colab_type": "code",
        "outputId": "0bfd24eb-0642-4889-e543-d7e7af4f4f00",
        "colab": {
          "base_uri": "https://localhost:8080/",
          "height": 544
        }
      },
      "source": [
        "!pip install torchviz\n",
        "!pip install pycoco\n",
        "from torch.utils.data.sampler import SubsetRandomSampler\n",
        "from torch.autograd import Variable\n",
        "from torchviz import make_dot\n",
        "import torch\n",
        "import torch.nn as nn\n",
        "import torchvision\n",
        "import torchvision.transforms as transforms\n",
        "import torch.optim as optim\n",
        "import gdown\n",
        "\n",
        "import matplotlib.pyplot as plt\n",
        "import numpy as np # we always love numpy\n",
        "import time\n",
        "import json\n"
      ],
      "execution_count": 1,
      "outputs": [
        {
          "output_type": "stream",
          "text": [
            "Collecting torchviz\n",
            "\u001b[?25l  Downloading https://files.pythonhosted.org/packages/8f/8e/a9630c7786b846d08b47714dd363a051f5e37b4ea0e534460d8cdfc1644b/torchviz-0.0.1.tar.gz (41kB)\n",
            "\u001b[K     |████████████████████████████████| 51kB 3.8MB/s \n",
            "\u001b[?25hRequirement already satisfied: torch in /usr/local/lib/python3.6/dist-packages (from torchviz) (1.2.0)\n",
            "Requirement already satisfied: graphviz in /usr/local/lib/python3.6/dist-packages (from torchviz) (0.10.1)\n",
            "Requirement already satisfied: numpy in /usr/local/lib/python3.6/dist-packages (from torch->torchviz) (1.16.5)\n",
            "Building wheels for collected packages: torchviz\n",
            "  Building wheel for torchviz (setup.py) ... \u001b[?25l\u001b[?25hdone\n",
            "  Created wheel for torchviz: filename=torchviz-0.0.1-cp36-none-any.whl size=3520 sha256=a18cbbf944563dc65191999f6c5b502d1759f68f9768d268b251aa355726191f\n",
            "  Stored in directory: /root/.cache/pip/wheels/2a/c2/c5/b8b4d0f7992c735f6db5bfa3c5f354cf36502037ca2b585667\n",
            "Successfully built torchviz\n",
            "Installing collected packages: torchviz\n",
            "Successfully installed torchviz-0.0.1\n",
            "Collecting pycoco\n",
            "  Downloading https://files.pythonhosted.org/packages/ed/b1/8a4e0663e2c9184fc9c800d4691d98cd86ffa21f2b2aeec39bec4386a5a8/pycoco-0.7.2.tar.bz2\n",
            "Collecting ll-xist>=3.9 (from pycoco)\n",
            "\u001b[?25l  Downloading https://files.pythonhosted.org/packages/81/1d/7c425cfb73d4a5c8c8bbac69a07d301a77bc52913554357a4cb32b917a07/ll-xist-5.53.tar.gz (704kB)\n",
            "\u001b[K     |████████████████████████████████| 706kB 3.9MB/s \n",
            "\u001b[?25hCollecting cssutils==1.0.2 (from ll-xist>=3.9->pycoco)\n",
            "\u001b[?25l  Downloading https://files.pythonhosted.org/packages/6b/15/a9fb9010f58d1c55dd0b7779db2334feb9a572d407024f39a60f44293861/cssutils-1.0.2-py3-none-any.whl (406kB)\n",
            "\u001b[K     |████████████████████████████████| 409kB 38.1MB/s \n",
            "\u001b[?25hBuilding wheels for collected packages: pycoco, ll-xist\n",
            "  Building wheel for pycoco (setup.py) ... \u001b[?25l\u001b[?25hdone\n",
            "  Created wheel for pycoco: filename=pycoco-0.7.2-cp36-none-any.whl size=9791 sha256=07a77a3c4cff96a8cb77953a4e990f246170fec80446a4bd69ef4bc45caee3a3\n",
            "  Stored in directory: /root/.cache/pip/wheels/d5/9f/9c/6f40b261f0abad9f29cfe967547d036e4bcfa6a225e442a678\n",
            "  Building wheel for ll-xist (setup.py) ... \u001b[?25l\u001b[?25hdone\n",
            "  Created wheel for ll-xist: filename=ll_xist-5.53-cp36-cp36m-linux_x86_64.whl size=606479 sha256=216e229e78de871ae062f352099c7182ccfd9e69e3fcd738ef60b04423d423a4\n",
            "  Stored in directory: /root/.cache/pip/wheels/66/23/56/de77a624279e15511955acd3a02fa8deece242ffbffc66d781\n",
            "Successfully built pycoco ll-xist\n",
            "Installing collected packages: cssutils, ll-xist, pycoco\n",
            "Successfully installed cssutils-1.0.2 ll-xist-5.53 pycoco-0.7.2\n"
          ],
          "name": "stdout"
        }
      ]
    },
    {
      "cell_type": "markdown",
      "metadata": {
        "colab_type": "text",
        "id": "VKmrlV2nxZvN"
      },
      "source": [
        "**DOWNLOADS AND EXTRACTION:**"
      ]
    },
    {
      "cell_type": "code",
      "metadata": {
        "id": "V0WBDV_Of0VY",
        "colab_type": "code",
        "colab": {}
      },
      "source": [
        "!mkdir /data"
      ],
      "execution_count": 0,
      "outputs": []
    },
    {
      "cell_type": "code",
      "metadata": {
        "id": "PhJ9EOwbwUQz",
        "colab_type": "code",
        "outputId": "ee0c55d6-a8db-40ad-da9f-533159345b9c",
        "colab": {
          "base_uri": "https://localhost:8080/",
          "height": 102
        }
      },
      "source": [
        "gdown.download('https://drive.google.com/uc?id=1zvKtRYaP_BxCS83LYZc3DWc4RyVeqJEF&export=download',\n",
        "               '/content/godseyedata.zip',\n",
        "               quiet=False)\n",
        "\n"
      ],
      "execution_count": 3,
      "outputs": [
        {
          "output_type": "stream",
          "text": [
            "Downloading...\n",
            "From: https://drive.google.com/uc?id=1zvKtRYaP_BxCS83LYZc3DWc4RyVeqJEF&export=download\n",
            "To: /content/godseyedata.zip\n",
            "6.01GB [01:13, 81.3MB/s]\n"
          ],
          "name": "stderr"
        },
        {
          "output_type": "execute_result",
          "data": {
            "text/plain": [
              "'/content/godseyedata.zip'"
            ]
          },
          "metadata": {
            "tags": []
          },
          "execution_count": 3
        }
      ]
    },
    {
      "cell_type": "code",
      "metadata": {
        "id": "X9m279hbIg_u",
        "colab_type": "code",
        "colab": {}
      },
      "source": [
        "!unzip -qq 'godseyedata.zip' -d /data"
      ],
      "execution_count": 0,
      "outputs": []
    },
    {
      "cell_type": "markdown",
      "metadata": {
        "id": "SUTku_9qvNuf",
        "colab_type": "text"
      },
      "source": [
        "\n",
        "\n",
        "```\n",
        "```\n",
        "\n",
        "# Pre-processing"
      ]
    },
    {
      "cell_type": "code",
      "metadata": {
        "id": "WX_iRnHyb-Ip",
        "colab_type": "code",
        "colab": {}
      },
      "source": [
        "import imageio\n",
        "ext = ('.jpg','.png')"
      ],
      "execution_count": 0,
      "outputs": []
    },
    {
      "cell_type": "code",
      "metadata": {
        "id": "gp1FqwA9H89X",
        "colab_type": "code",
        "colab": {
          "base_uri": "https://localhost:8080/",
          "height": 367
        },
        "outputId": "879cc5a9-f72f-455b-b81f-fb5065f4709e"
      },
      "source": [
        "# Data set information\n",
        "image_dims = 3, 256, 256\n",
        "n_training_samples = 8001 # How many training images to use\n",
        "n_test_samples = 2000 # How many test images to use\n",
        "classes = ('Alabama','Alaska','Arizona','Arkansas','California','Colorado',\n",
        "           'Connecticut','Delaware','Florida','Georgia','Hawaii','Idaho',\n",
        "           'Illinois','Indiana','Iowa','Kansas','Kentucky','Louisiana','Maine',\n",
        "           'Maryland','Massachusetts','Michigan','Minnesota','Mississippi',\n",
        "           'Missouri','Montana','Nebraska','Nevada','New Hampshire','New Jersey',\n",
        "           'New Mexico','New York','North Carolina','North Dakota','Ohio','Oklahoma',\n",
        "           'Oregon','Pennsylvania', 'Rhode Island','South Carolina','South Dakota',\n",
        "           'Tennessee','Texas','Utah','Vermont','Virginia','Washington','West Virginia',\n",
        "           'Wisconsin','Wyoming')\n",
        "\n",
        "for state in classes:\n",
        "  root = '/data/' + state\n",
        "  # Load the training set\n",
        "  train_set = torchvision.datasets.DatasetFolder(\n",
        "      root=root, loader=imageio.imread, extensions=ext, transform=transforms.ToTensor(), target_transform=None, is_valid_file=None)\n",
        "  train_sampler = SubsetRandomSampler(\n",
        "      np.arange(n_training_samples, dtype=np.int64))\n",
        "\n",
        "  classes = train_set._find_classes('/data')[0]\n",
        "\n",
        "  #Load the test set\n",
        "  test_set = torchvision.datasets.DatasetFolder(\n",
        "      root=root, loader=imageio.imread, extensions=ext, transform=transforms.ToTensor(), target_transform=None, is_valid_file=None)\n",
        "  test_sampler = SubsetRandomSampler(np.arange(n_test_samples, dtype=np.int64))"
      ],
      "execution_count": 28,
      "outputs": [
        {
          "output_type": "error",
          "ename": "RuntimeError",
          "evalue": "ignored",
          "traceback": [
            "\u001b[0;31m---------------------------------------------------------------------------\u001b[0m",
            "\u001b[0;31mRuntimeError\u001b[0m                              Traceback (most recent call last)",
            "\u001b[0;32m<ipython-input-28-6554c40a76db>\u001b[0m in \u001b[0;36m<module>\u001b[0;34m()\u001b[0m\n\u001b[1;32m     16\u001b[0m   \u001b[0;31m# Load the training set\u001b[0m\u001b[0;34m\u001b[0m\u001b[0;34m\u001b[0m\u001b[0;34m\u001b[0m\u001b[0m\n\u001b[1;32m     17\u001b[0m   train_set = torchvision.datasets.DatasetFolder(\n\u001b[0;32m---> 18\u001b[0;31m       root=root, loader=imageio.imread, extensions=ext, transform=transforms.ToTensor(), target_transform=None, is_valid_file=None)\n\u001b[0m\u001b[1;32m     19\u001b[0m   train_sampler = SubsetRandomSampler(\n\u001b[1;32m     20\u001b[0m       np.arange(n_training_samples, dtype=np.int64))\n",
            "\u001b[0;32m/usr/local/lib/python3.6/dist-packages/torchvision/datasets/folder.py\u001b[0m in \u001b[0;36m__init__\u001b[0;34m(self, root, loader, extensions, transform, target_transform, is_valid_file)\u001b[0m\n\u001b[1;32m     95\u001b[0m         \u001b[0;32mif\u001b[0m \u001b[0mlen\u001b[0m\u001b[0;34m(\u001b[0m\u001b[0msamples\u001b[0m\u001b[0;34m)\u001b[0m \u001b[0;34m==\u001b[0m \u001b[0;36m0\u001b[0m\u001b[0;34m:\u001b[0m\u001b[0;34m\u001b[0m\u001b[0;34m\u001b[0m\u001b[0m\n\u001b[1;32m     96\u001b[0m             raise (RuntimeError(\"Found 0 files in subfolders of: \" + self.root + \"\\n\"\n\u001b[0;32m---> 97\u001b[0;31m                                 \"Supported extensions are: \" + \",\".join(extensions)))\n\u001b[0m\u001b[1;32m     98\u001b[0m \u001b[0;34m\u001b[0m\u001b[0m\n\u001b[1;32m     99\u001b[0m         \u001b[0mself\u001b[0m\u001b[0;34m.\u001b[0m\u001b[0mloader\u001b[0m \u001b[0;34m=\u001b[0m \u001b[0mloader\u001b[0m\u001b[0;34m\u001b[0m\u001b[0;34m\u001b[0m\u001b[0m\n",
            "\u001b[0;31mRuntimeError\u001b[0m: Found 0 files in subfolders of: /data/Alabama\nSupported extensions are: .jpg,.png"
          ]
        }
      ]
    },
    {
      "cell_type": "code",
      "metadata": {
        "id": "1MCGbGGdxYxy",
        "colab_type": "code",
        "outputId": "7d1101b8-70c3-47ed-a326-f8eab6493d09",
        "colab": {
          "base_uri": "https://localhost:8080/",
          "height": 299
        }
      },
      "source": [
        "#train_set.root = '/content/Alabama'\n",
        "\n",
        "for i in range(5):\n",
        "  x, y = train_set[i]\n",
        "  print(y)\n",
        "train_set._find_classes('/data')[0]\n",
        "\n",
        "print(train_sampler)\n",
        "print(test_sampler[100])"
      ],
      "execution_count": 26,
      "outputs": [
        {
          "output_type": "stream",
          "text": [
            "0\n",
            "0\n",
            "0\n",
            "0\n",
            "0\n"
          ],
          "name": "stdout"
        },
        {
          "output_type": "error",
          "ename": "AttributeError",
          "evalue": "ignored",
          "traceback": [
            "\u001b[0;31m---------------------------------------------------------------------------\u001b[0m",
            "\u001b[0;31mAttributeError\u001b[0m                            Traceback (most recent call last)",
            "\u001b[0;32m<ipython-input-26-94d2e7b532b0>\u001b[0m in \u001b[0;36m<module>\u001b[0;34m()\u001b[0m\n\u001b[1;32m      5\u001b[0m \u001b[0mtrain_set\u001b[0m\u001b[0;34m.\u001b[0m\u001b[0m_find_classes\u001b[0m\u001b[0;34m(\u001b[0m\u001b[0;34m'/data'\u001b[0m\u001b[0;34m)\u001b[0m\u001b[0;34m[\u001b[0m\u001b[0;36m0\u001b[0m\u001b[0;34m]\u001b[0m\u001b[0;34m\u001b[0m\u001b[0;34m\u001b[0m\u001b[0m\n\u001b[1;32m      6\u001b[0m \u001b[0;34m\u001b[0m\u001b[0m\n\u001b[0;32m----> 7\u001b[0;31m \u001b[0mprint\u001b[0m\u001b[0;34m(\u001b[0m\u001b[0mtrain_sampler\u001b[0m\u001b[0;34m.\u001b[0m\u001b[0mproperties\u001b[0m\u001b[0;34m)\u001b[0m\u001b[0;34m\u001b[0m\u001b[0;34m\u001b[0m\u001b[0m\n\u001b[0m\u001b[1;32m      8\u001b[0m \u001b[0mprint\u001b[0m\u001b[0;34m(\u001b[0m\u001b[0mtest_sampler\u001b[0m\u001b[0;34m[\u001b[0m\u001b[0;36m100\u001b[0m\u001b[0;34m]\u001b[0m\u001b[0;34m)\u001b[0m\u001b[0;34m\u001b[0m\u001b[0;34m\u001b[0m\u001b[0m\n",
            "\u001b[0;31mAttributeError\u001b[0m: 'SubsetRandomSampler' object has no attribute 'properties'"
          ]
        }
      ]
    },
    {
      "cell_type": "markdown",
      "metadata": {
        "id": "1sRkKv-S4i4f",
        "colab_type": "text"
      },
      "source": [
        "**IMAGE DISPLAY:**"
      ]
    },
    {
      "cell_type": "code",
      "metadata": {
        "id": "ycesTQcFH4sz",
        "colab_type": "code",
        "outputId": "46cc8f0d-145e-44f1-bf76-f497c90f3b09",
        "colab": {
          "base_uri": "https://localhost:8080/",
          "height": 298
        }
      },
      "source": [
        "def disp_image(image, class_idx, predicted=None):\n",
        "    # need to reorder the tensor dimensions to work properly with imshow\n",
        "    plt.imshow(image.transpose(0,2).transpose(0,1))\n",
        "    plt.axis('off')\n",
        "    if predicted:\n",
        "        plt.title(\"Actual: \" + classes[class_idx] + \"     Predicted: \" + classes[predicted])\n",
        "    else:\n",
        "        plt.title(\"Actual: \" + classes[class_idx])\n",
        "    plt.show()\n",
        "\n",
        "#print(\"training set input data shape\", train_set.data.shape)\n",
        "#print(\"Number of training outputs\", len(train_set.targets))\n",
        "x, y = train_set[1]\n",
        "disp_image(x,y)\n",
        "print(x.shape)"
      ],
      "execution_count": 8,
      "outputs": [
        {
          "output_type": "display_data",
          "data": {
            "image/png": "[encoded data removed]",
            "text/plain": [
              "<Figure size 432x288 with 1 Axes>"
            ]
          },
          "metadata": {
            "tags": []
          }
        },
        {
          "output_type": "stream",
          "text": [
            "torch.Size([3, 256, 256])\n"
          ],
          "name": "stdout"
        }
      ]
    },
    {
      "cell_type": "markdown",
      "metadata": {
        "id": "-BseU3j8gzxT",
        "colab_type": "text"
      },
      "source": [
        "**UNDERSTANDING THE DATA:**"
      ]
    },
    {
      "cell_type": "code",
      "metadata": {
        "id": "zZwsp18hd1ix",
        "colab_type": "code",
        "outputId": "037cc7d0-b10d-4b4d-b06b-6e6cf92c177c",
        "colab": {
          "base_uri": "https://localhost:8080/",
          "height": 269
        }
      },
      "source": [
        "import seaborn as sns\n",
        "\n",
        "sns.countplot(train_set.targets)\n",
        "plt.xticks(ticks=range(10), labels=classes)\n",
        "plt.show()"
      ],
      "execution_count": 9,
      "outputs": [
        {
          "output_type": "display_data",
          "data": {
            "image/png": "[encoded data removed]",
            "text/plain": [
              "<Figure size 432x288 with 1 Axes>"
            ]
          },
          "metadata": {
            "tags": []
          }
        }
      ]
    },
    {
      "cell_type": "markdown",
      "metadata": {
        "id": "3WoOyhvHrndr",
        "colab_type": "text"
      },
      "source": [
        "\n",
        "\n",
        "```\n",
        "```\n",
        "\n",
        "# Building the Network"
      ]
    },
    {
      "cell_type": "markdown",
      "metadata": {
        "id": "a6heNYJhxZlI",
        "colab_type": "text"
      },
      "source": [
        "**Network Class:**"
      ]
    },
    {
      "cell_type": "code",
      "metadata": {
        "id": "99iLxGoGr7Wu",
        "colab_type": "code",
        "colab": {}
      },
      "source": [
        "class MyCNN(nn.Module):\n",
        "    # The init funciton in Pytorch classes is used to keep track of the parameters of the model\n",
        "    # specifically the ones we want to update with gradient descent + backprop\n",
        "    # So we need to make sure we keep track of all of them here\n",
        "    def __init__(self):\n",
        "        super(MyCNN, self).__init__()\n",
        "        # layers defined here\n",
        "\n",
        "        # Make sure you understand what this convolutional layer is doing.\n",
        "        # E.g., considering looking at help(nn.Conv2D).  Draw a picture of what\n",
        "        # this layer does to the data.\n",
        "\n",
        "        # note: image_dims[0] will be 3 as there are 3 color channels (R, G, B)\n",
        "        num_kernels = 16\n",
        "        self.conv1 = nn.Conv2d(image_dims[0], num_kernels, kernel_size=3, stride=1, padding=1)\n",
        "\n",
        "        # Make sure you understand what this MaxPool2D layer is doing.\n",
        "        # E.g., considering looking at help(nn.MaxPool2d).  Draw a picture of\n",
        "        # what this layer does to the data.\n",
        "\n",
        "        self.pool = nn.MaxPool2d(kernel_size=2, stride=2, padding=0)\n",
        "\n",
        "        # maxpool_output_size is the total amount of data coming out of that\n",
        "        # layer.  We have an exercise that asks you to explain why the line of\n",
        "        # code below computes this quantity.\n",
        "        self.maxpool_output_size = int(num_kernels * (image_dims[1] / 2) * (image_dims[2] / 2))\n",
        "\n",
        "        # Add on a fully connected layer (like in our MLP)\n",
        "        # fc stands for fully connected\n",
        "        fc1_size = 64\n",
        "        self.fc1 = nn.Linear(self.maxpool_output_size, fc1_size)\n",
        "\n",
        "        # we'll use this activation function internally in the network\n",
        "        self.activation_func = torch.nn.ReLU()\n",
        "\n",
        "        # Convert our fully connected layer into outputs that we can compare to the result\n",
        "        fc2_size = len(classes)\n",
        "        self.fc2 = nn.Linear(fc1_size, fc2_size)\n",
        "\n",
        "        # Note: that the output will not represent the probability of the\n",
        "        # output being in each class.  The loss function we will use\n",
        "        # `CrossEntropyLoss` will take care of convering these values to\n",
        "        # probabilities and then computing the log loss with respect to the\n",
        "        # true label.  We could break this out into multiple steps, but it turns\n",
        "        # out that the algorithm will be more numerically stable if we do it in\n",
        "        # one go.  We have included a cell to show you the documentation for\n",
        "        # `CrossEntropyLoss` if you'd like to check it out.\n",
        "        \n",
        "    # The forward function in the class defines the operations performed on a given input to the model\n",
        "    # and returns the output of the model\n",
        "    def forward(self, x):\n",
        "        x = self.conv1(x)\n",
        "        x = self.pool(x)\n",
        "        x = self.activation_func(x)\n",
        "        # this code flattens the output of the convolution, max pool,\n",
        "        # activation sequence of steps into a vector\n",
        "        x = x.view(-1, self.maxpool_output_size)\n",
        "        x = self.fc1(x)\n",
        "        x = self.activation_func(x)\n",
        "        x = self.fc2(x)\n",
        "        return x\n",
        "\n",
        "    # The loss function (which we chose to include as a method of the class, but doesn't need to be)\n",
        "    # returns the loss and optimizer used by the model\n",
        "    def get_loss(self, learning_rate):\n",
        "      # Loss function\n",
        "      loss = nn.CrossEntropyLoss()\n",
        "      # Optimizer, self.parameters() returns all the Pytorch operations that are attributes of the class\n",
        "      optimizer = optim.Adam(self.parameters(), lr=learning_rate)\n",
        "      return loss, optimizer"
      ],
      "execution_count": 0,
      "outputs": []
    },
    {
      "cell_type": "markdown",
      "metadata": {
        "id": "c8ZYsCGexh-3",
        "colab_type": "text"
      },
      "source": [
        "**Model the Network:**"
      ]
    },
    {
      "cell_type": "code",
      "metadata": {
        "id": "nSuYcuDAxn1W",
        "colab_type": "code",
        "outputId": "730b2adc-6b62-49fb-9958-daa0eb7505c6",
        "colab": {
          "base_uri": "https://localhost:8080/",
          "height": 678
        }
      },
      "source": [
        "def visualize_network(net):\n",
        "    # Visualize the architecture of the model\n",
        "    # We need to give the net a fake input for this library to visualize the architecture\n",
        "    fake_input = Variable(torch.zeros((1,image_dims[0], image_dims[1], image_dims[2]))).to(device)\n",
        "    outputs = net(fake_input)\n",
        "    # Plot the DAG (Directed Acyclic Graph) of the model\n",
        "    return make_dot(outputs, dict(net.named_parameters()))\n",
        "\n",
        "# Define what device we want to use\n",
        "device = 'cuda' # 'cpu' if we want to not use the gpu\n",
        "# Initialize the model, loss, and optimization function\n",
        "net = MyCNN()\n",
        "# This tells our model to send all of the tensors and operations to the GPU (or keep them at the CPU if we're not using GPU)\n",
        "net.to(device)\n",
        "\n",
        "visualize_network(net)"
      ],
      "execution_count": 11,
      "outputs": [
        {
          "output_type": "execute_result",
          "data": {
            "text/plain": [
              "<graphviz.dot.Digraph at 0x7f6ac13b3b38>"
            ],
            "image/svg+xml": "<?xml version=\"1.0\" encoding=\"UTF-8\" standalone=\"no\"?>\n<!DOCTYPE svg PUBLIC \"-//W3C//DTD SVG 1.1//EN\"\n \"http://www.w3.org/Graphics/SVG/1.1/DTD/svg11.dtd\">\n<!-- Generated by graphviz version 2.40.1 (20161225.0304)\n -->\n<!-- Title: %3 Pages: 1 -->\n<svg width=\"271pt\" height=\"493pt\"\n viewBox=\"0.00 0.00 270.50 493.00\" xmlns=\"http://www.w3.org/2000/svg\" xmlns:xlink=\"http://www.w3.org/1999/xlink\">\n<g id=\"graph0\" class=\"graph\" transform=\"scale(1 1) rotate(0) translate(4 489)\">\n<title>%3</title>\n<polygon fill=\"#ffffff\" stroke=\"transparent\" points=\"-4,4 -4,-489 266.5,-489 266.5,4 -4,4\"/>\n<!-- 140096485142656 -->\n<g id=\"node1\" class=\"node\">\n<title>140096485142656</title>\n<polygon fill=\"#caff70\" stroke=\"#000000\" points=\"171,-21 67,-21 67,0 171,0 171,-21\"/>\n<text text-anchor=\"middle\" x=\"119\" y=\"-7.4\" font-family=\"Times,serif\" font-size=\"12.00\" fill=\"#000000\">AddmmBackward</text>\n</g>\n<!-- 140096485144616 -->\n<g id=\"node2\" class=\"node\">\n<title>140096485144616</title>\n<polygon fill=\"#add8e6\" stroke=\"#000000\" points=\"54,-91 0,-91 0,-57 54,-57 54,-91\"/>\n<text text-anchor=\"middle\" x=\"27\" y=\"-77.4\" font-family=\"Times,serif\" font-size=\"12.00\" fill=\"#000000\">fc2.bias</text>\n<text text-anchor=\"middle\" x=\"27\" y=\"-64.4\" font-family=\"Times,serif\" font-size=\"12.00\" fill=\"#000000\"> (50)</text>\n</g>\n<!-- 140096485144616&#45;&gt;140096485142656 -->\n<g id=\"edge1\" class=\"edge\">\n<title>140096485144616&#45;&gt;140096485142656</title>\n<path fill=\"none\" stroke=\"#000000\" d=\"M51.6543,-56.9832C65.1894,-47.641 81.8926,-36.1122 95.278,-26.8734\"/>\n<polygon fill=\"#000000\" stroke=\"#000000\" points=\"97.2865,-29.7398 103.5283,-21.1788 93.3102,-23.9788 97.2865,-29.7398\"/>\n</g>\n<!-- 140096485146240 -->\n<g id=\"node3\" class=\"node\">\n<title>140096485146240</title>\n<polygon fill=\"#d3d3d3\" stroke=\"#000000\" points=\"166,-84.5 72,-84.5 72,-63.5 166,-63.5 166,-84.5\"/>\n<text text-anchor=\"middle\" x=\"119\" y=\"-70.9\" font-family=\"Times,serif\" font-size=\"12.00\" fill=\"#000000\">ReluBackward0</text>\n</g>\n<!-- 140096485146240&#45;&gt;140096485142656 -->\n<g id=\"edge2\" class=\"edge\">\n<title>140096485146240&#45;&gt;140096485142656</title>\n<path fill=\"none\" stroke=\"#000000\" d=\"M119,-63.2281C119,-54.5091 119,-41.9699 119,-31.3068\"/>\n<polygon fill=\"#000000\" stroke=\"#000000\" points=\"122.5001,-31.1128 119,-21.1128 115.5001,-31.1129 122.5001,-31.1128\"/>\n</g>\n<!-- 140096485145344 -->\n<g id=\"node4\" class=\"node\">\n<title>140096485145344</title>\n<polygon fill=\"#d3d3d3\" stroke=\"#000000\" points=\"170,-154.5 66,-154.5 66,-133.5 170,-133.5 170,-154.5\"/>\n<text text-anchor=\"middle\" x=\"118\" y=\"-140.9\" font-family=\"Times,serif\" font-size=\"12.00\" fill=\"#000000\">AddmmBackward</text>\n</g>\n<!-- 140096485145344&#45;&gt;140096485146240 -->\n<g id=\"edge3\" class=\"edge\">\n<title>140096485145344&#45;&gt;140096485146240</title>\n<path fill=\"none\" stroke=\"#000000\" d=\"M118.1519,-133.3685C118.2972,-123.1925 118.5206,-107.5606 118.7016,-94.8912\"/>\n<polygon fill=\"#000000\" stroke=\"#000000\" points=\"122.2034,-94.7806 118.8467,-84.7315 115.2041,-94.6805 122.2034,-94.7806\"/>\n</g>\n<!-- 140096484591544 -->\n<g id=\"node5\" class=\"node\">\n<title>140096484591544</title>\n<polygon fill=\"#add8e6\" stroke=\"#000000\" points=\"54,-231 0,-231 0,-197 54,-197 54,-231\"/>\n<text text-anchor=\"middle\" x=\"27\" y=\"-217.4\" font-family=\"Times,serif\" font-size=\"12.00\" fill=\"#000000\">fc1.bias</text>\n<text text-anchor=\"middle\" x=\"27\" y=\"-204.4\" font-family=\"Times,serif\" font-size=\"12.00\" fill=\"#000000\"> (64)</text>\n</g>\n<!-- 140096484591544&#45;&gt;140096485145344 -->\n<g id=\"edge4\" class=\"edge\">\n<title>140096484591544&#45;&gt;140096485145344</title>\n<path fill=\"none\" stroke=\"#000000\" d=\"M49.4944,-196.6966C63.7034,-185.7666 81.9745,-171.7119 96.0735,-160.8666\"/>\n<polygon fill=\"#000000\" stroke=\"#000000\" points=\"98.447,-163.4565 104.2393,-154.5852 94.179,-157.9081 98.447,-163.4565\"/>\n</g>\n<!-- 140096484592776 -->\n<g id=\"node6\" class=\"node\">\n<title>140096484592776</title>\n<polygon fill=\"#d3d3d3\" stroke=\"#000000\" points=\"163.5,-224.5 72.5,-224.5 72.5,-203.5 163.5,-203.5 163.5,-224.5\"/>\n<text text-anchor=\"middle\" x=\"118\" y=\"-210.9\" font-family=\"Times,serif\" font-size=\"12.00\" fill=\"#000000\">ViewBackward</text>\n</g>\n<!-- 140096484592776&#45;&gt;140096485145344 -->\n<g id=\"edge5\" class=\"edge\">\n<title>140096484592776&#45;&gt;140096485145344</title>\n<path fill=\"none\" stroke=\"#000000\" d=\"M118,-203.3685C118,-193.1925 118,-177.5606 118,-164.8912\"/>\n<polygon fill=\"#000000\" stroke=\"#000000\" points=\"121.5001,-164.7315 118,-154.7315 114.5001,-164.7316 121.5001,-164.7315\"/>\n</g>\n<!-- 140096484160008 -->\n<g id=\"node7\" class=\"node\">\n<title>140096484160008</title>\n<polygon fill=\"#d3d3d3\" stroke=\"#000000\" points=\"163,-294.5 69,-294.5 69,-273.5 163,-273.5 163,-294.5\"/>\n<text text-anchor=\"middle\" x=\"116\" y=\"-280.9\" font-family=\"Times,serif\" font-size=\"12.00\" fill=\"#000000\">ReluBackward0</text>\n</g>\n<!-- 140096484160008&#45;&gt;140096484592776 -->\n<g id=\"edge6\" class=\"edge\">\n<title>140096484160008&#45;&gt;140096484592776</title>\n<path fill=\"none\" stroke=\"#000000\" d=\"M116.3038,-273.3685C116.5945,-263.1925 117.0411,-247.5606 117.4031,-234.8912\"/>\n<polygon fill=\"#000000\" stroke=\"#000000\" points=\"120.9063,-234.8275 117.6934,-224.7315 113.9091,-234.6275 120.9063,-234.8275\"/>\n</g>\n<!-- 140096484160568 -->\n<g id=\"node8\" class=\"node\">\n<title>140096484160568</title>\n<polygon fill=\"#d3d3d3\" stroke=\"#000000\" points=\"206,-358 26,-358 26,-337 206,-337 206,-358\"/>\n<text text-anchor=\"middle\" x=\"116\" y=\"-344.4\" font-family=\"Times,serif\" font-size=\"12.00\" fill=\"#000000\">MaxPool2DWithIndicesBackward</text>\n</g>\n<!-- 140096484160568&#45;&gt;140096484160008 -->\n<g id=\"edge7\" class=\"edge\">\n<title>140096484160568&#45;&gt;140096484160008</title>\n<path fill=\"none\" stroke=\"#000000\" d=\"M116,-336.7281C116,-328.0091 116,-315.4699 116,-304.8068\"/>\n<polygon fill=\"#000000\" stroke=\"#000000\" points=\"119.5001,-304.6128 116,-294.6128 112.5001,-304.6129 119.5001,-304.6128\"/>\n</g>\n<!-- 140096484161296 -->\n<g id=\"node9\" class=\"node\">\n<title>140096484161296</title>\n<polygon fill=\"#d3d3d3\" stroke=\"#000000\" points=\"194.5,-415 37.5,-415 37.5,-394 194.5,-394 194.5,-415\"/>\n<text text-anchor=\"middle\" x=\"116\" y=\"-401.4\" font-family=\"Times,serif\" font-size=\"12.00\" fill=\"#000000\">CudnnConvolutionBackward</text>\n</g>\n<!-- 140096484161296&#45;&gt;140096484160568 -->\n<g id=\"edge8\" class=\"edge\">\n<title>140096484161296&#45;&gt;140096484160568</title>\n<path fill=\"none\" stroke=\"#000000\" d=\"M116,-393.7787C116,-386.6134 116,-376.9517 116,-368.3097\"/>\n<polygon fill=\"#000000\" stroke=\"#000000\" points=\"119.5001,-368.1732 116,-358.1732 112.5001,-368.1732 119.5001,-368.1732\"/>\n</g>\n<!-- 140096484161184 -->\n<g id=\"node10\" class=\"node\">\n<title>140096484161184</title>\n<polygon fill=\"#add8e6\" stroke=\"#000000\" points=\"110.5,-485 29.5,-485 29.5,-451 110.5,-451 110.5,-485\"/>\n<text text-anchor=\"middle\" x=\"70\" y=\"-471.4\" font-family=\"Times,serif\" font-size=\"12.00\" fill=\"#000000\">conv1.weight</text>\n<text text-anchor=\"middle\" x=\"70\" y=\"-458.4\" font-family=\"Times,serif\" font-size=\"12.00\" fill=\"#000000\"> (16, 3, 3, 3)</text>\n</g>\n<!-- 140096484161184&#45;&gt;140096484161296 -->\n<g id=\"edge9\" class=\"edge\">\n<title>140096484161184&#45;&gt;140096484161296</title>\n<path fill=\"none\" stroke=\"#000000\" d=\"M82.3272,-450.9832C88.4107,-442.5853 95.7742,-432.4204 102.0621,-423.7404\"/>\n<polygon fill=\"#000000\" stroke=\"#000000\" points=\"105.0945,-425.5204 108.1266,-415.3687 99.4256,-421.4138 105.0945,-425.5204\"/>\n</g>\n<!-- 140096484163536 -->\n<g id=\"node11\" class=\"node\">\n<title>140096484163536</title>\n<polygon fill=\"#add8e6\" stroke=\"#000000\" points=\"197,-485 129,-485 129,-451 197,-451 197,-485\"/>\n<text text-anchor=\"middle\" x=\"163\" y=\"-471.4\" font-family=\"Times,serif\" font-size=\"12.00\" fill=\"#000000\">conv1.bias</text>\n<text text-anchor=\"middle\" x=\"163\" y=\"-458.4\" font-family=\"Times,serif\" font-size=\"12.00\" fill=\"#000000\"> (16)</text>\n</g>\n<!-- 140096484163536&#45;&gt;140096484161296 -->\n<g id=\"edge10\" class=\"edge\">\n<title>140096484163536&#45;&gt;140096484161296</title>\n<path fill=\"none\" stroke=\"#000000\" d=\"M150.4049,-450.9832C144.1237,-442.4969 136.5069,-432.2062 130.0384,-423.4668\"/>\n<polygon fill=\"#000000\" stroke=\"#000000\" points=\"132.8071,-421.3243 124.0445,-415.3687 127.1806,-425.4888 132.8071,-421.3243\"/>\n</g>\n<!-- 140096484591600 -->\n<g id=\"node12\" class=\"node\">\n<title>140096484591600</title>\n<polygon fill=\"#d3d3d3\" stroke=\"#000000\" points=\"257.5,-224.5 184.5,-224.5 184.5,-203.5 257.5,-203.5 257.5,-224.5\"/>\n<text text-anchor=\"middle\" x=\"221\" y=\"-210.9\" font-family=\"Times,serif\" font-size=\"12.00\" fill=\"#000000\">TBackward</text>\n</g>\n<!-- 140096484591600&#45;&gt;140096485145344 -->\n<g id=\"edge11\" class=\"edge\">\n<title>140096484591600&#45;&gt;140096485145344</title>\n<path fill=\"none\" stroke=\"#000000\" d=\"M205.3565,-203.3685C188.4707,-191.8927 161.3752,-173.4783 141.8354,-160.1988\"/>\n<polygon fill=\"#000000\" stroke=\"#000000\" points=\"143.6913,-157.2284 133.4532,-154.5022 139.7567,-163.0179 143.6913,-157.2284\"/>\n</g>\n<!-- 140096484161520 -->\n<g id=\"node13\" class=\"node\">\n<title>140096484161520</title>\n<polygon fill=\"#add8e6\" stroke=\"#000000\" points=\"262.5,-301 181.5,-301 181.5,-267 262.5,-267 262.5,-301\"/>\n<text text-anchor=\"middle\" x=\"222\" y=\"-287.4\" font-family=\"Times,serif\" font-size=\"12.00\" fill=\"#000000\">fc1.weight</text>\n<text text-anchor=\"middle\" x=\"222\" y=\"-274.4\" font-family=\"Times,serif\" font-size=\"12.00\" fill=\"#000000\"> (64, 262144)</text>\n</g>\n<!-- 140096484161520&#45;&gt;140096484591600 -->\n<g id=\"edge12\" class=\"edge\">\n<title>140096484161520&#45;&gt;140096484591600</title>\n<path fill=\"none\" stroke=\"#000000\" d=\"M221.7528,-266.6966C221.6152,-257.0634 221.4429,-245.003 221.2979,-234.8518\"/>\n<polygon fill=\"#000000\" stroke=\"#000000\" points=\"224.7967,-234.7402 221.1542,-224.7913 217.7975,-234.8403 224.7967,-234.7402\"/>\n</g>\n<!-- 140096485142936 -->\n<g id=\"node14\" class=\"node\">\n<title>140096485142936</title>\n<polygon fill=\"#d3d3d3\" stroke=\"#000000\" points=\"258.5,-84.5 185.5,-84.5 185.5,-63.5 258.5,-63.5 258.5,-84.5\"/>\n<text text-anchor=\"middle\" x=\"222\" y=\"-70.9\" font-family=\"Times,serif\" font-size=\"12.00\" fill=\"#000000\">TBackward</text>\n</g>\n<!-- 140096485142936&#45;&gt;140096485142656 -->\n<g id=\"edge13\" class=\"edge\">\n<title>140096485142936&#45;&gt;140096485142656</title>\n<path fill=\"none\" stroke=\"#000000\" d=\"M204.5275,-63.2281C188.1519,-53.1325 163.4682,-37.9149 144.8209,-26.4187\"/>\n<polygon fill=\"#000000\" stroke=\"#000000\" points=\"146.5636,-23.3814 136.2145,-21.1128 142.8901,-29.3401 146.5636,-23.3814\"/>\n</g>\n<!-- 140096484592552 -->\n<g id=\"node15\" class=\"node\">\n<title>140096484592552</title>\n<polygon fill=\"#add8e6\" stroke=\"#000000\" points=\"255.5,-161 188.5,-161 188.5,-127 255.5,-127 255.5,-161\"/>\n<text text-anchor=\"middle\" x=\"222\" y=\"-147.4\" font-family=\"Times,serif\" font-size=\"12.00\" fill=\"#000000\">fc2.weight</text>\n<text text-anchor=\"middle\" x=\"222\" y=\"-134.4\" font-family=\"Times,serif\" font-size=\"12.00\" fill=\"#000000\"> (50, 64)</text>\n</g>\n<!-- 140096484592552&#45;&gt;140096485142936 -->\n<g id=\"edge14\" class=\"edge\">\n<title>140096484592552&#45;&gt;140096485142936</title>\n<path fill=\"none\" stroke=\"#000000\" d=\"M222,-126.6966C222,-117.0634 222,-105.003 222,-94.8518\"/>\n<polygon fill=\"#000000\" stroke=\"#000000\" points=\"225.5001,-94.7912 222,-84.7913 218.5001,-94.7913 225.5001,-94.7912\"/>\n</g>\n</g>\n</svg>\n"
          },
          "metadata": {
            "tags": []
          },
          "execution_count": 11
        }
      ]
    },
    {
      "cell_type": "markdown",
      "metadata": {
        "id": "k6A93gFKx0Af",
        "colab_type": "text"
      },
      "source": [
        "**Train the model:**"
      ]
    },
    {
      "cell_type": "code",
      "metadata": {
        "id": "63NB9Qmjx2m8",
        "colab_type": "code",
        "colab": {}
      },
      "source": [
        "# Define training parameters\n",
        "batch_size = 32\n",
        "learning_rate = 1e-2\n",
        "n_epochs = 10\n",
        "# Get our data into the mini batch size that we defined\n",
        "train_loader = torch.utils.data.DataLoader(train_set, batch_size=batch_size,\n",
        "                                           sampler=train_sampler, num_workers=2)\n",
        "test_loader = torch.utils.data.DataLoader(\n",
        "    test_set, batch_size=128, sampler=test_sampler, num_workers=2)\n",
        "\n",
        "def train_model(net):\n",
        "    \"\"\" Train a the specified network.\n",
        "\n",
        "        Outputs a tuple with the following four elements\n",
        "        train_hist_x: the x-values (batch number) that the training set was \n",
        "            evaluated on.\n",
        "        train_loss_hist: the loss values for the training set corresponding to\n",
        "            the batch numbers returned in train_hist_x\n",
        "        test_hist_x: the x-values (batch number) that the test set was \n",
        "            evaluated on.\n",
        "        test_loss_hist: the loss values for the test set corresponding to\n",
        "            the batch numbers returned in test_hist_x\n",
        "    \"\"\" \n",
        "    loss, optimizer = net.get_loss(learning_rate)\n",
        "    # Define some parameters to keep track of metrics\n",
        "    print_every = 20\n",
        "    idx = 0\n",
        "    train_hist_x = []\n",
        "    train_loss_hist = []\n",
        "    test_hist_x = []\n",
        "    test_loss_hist = []\n",
        "\n",
        "    training_start_time = time.time()\n",
        "    # Loop for n_epochs\n",
        "    for epoch in range(n_epochs):\n",
        "        running_loss = 0.0\n",
        "        start_time = time.time()\n",
        "\n",
        "        for i, data in enumerate(train_loader, 0):\n",
        "\n",
        "            # Get inputs in right form\n",
        "            inputs, labels = data\n",
        "            inputs, labels = Variable(inputs).to(device), Variable(labels).to(device)\n",
        "            \n",
        "            # In Pytorch, We need to always remember to set the optimizer gradients to 0 before we recompute the new gradients\n",
        "            optimizer.zero_grad()\n",
        "\n",
        "            # Forward pass\n",
        "            outputs = net(inputs)\n",
        "            \n",
        "            # Compute the loss and find the loss with respect to each parameter of the model\n",
        "            loss_size = loss(outputs, labels)\n",
        "            loss_size.backward()\n",
        "            \n",
        "            # Change each parameter with respect to the recently computed loss.\n",
        "            optimizer.step()\n",
        "\n",
        "            # Update statistics\n",
        "            running_loss += loss_size.data.item()\n",
        "            \n",
        "            # Print every 20th batch of an epoch\n",
        "            if (i % print_every) == print_every-1:\n",
        "                print(\"Epoch {}, Iteration {}\\t train_loss: {:.2f} took: {:.2f}s\".format(\n",
        "                    epoch + 1, i+1,running_loss / print_every, time.time() - start_time))\n",
        "                # Reset running loss and time\n",
        "                train_loss_hist.append(running_loss / print_every)\n",
        "                train_hist_x.append(idx)\n",
        "                running_loss = 0.0\n",
        "                start_time = time.time()\n",
        "            idx += 1\n",
        "\n",
        "        # At the end of the epoch, do a pass on the test set\n",
        "        total_test_loss = 0\n",
        "        for inputs, labels in test_loader:\n",
        "\n",
        "            # Wrap tensors in Variables\n",
        "            inputs, labels = Variable(inputs).to(device), Variable(labels).to(device)\n",
        "\n",
        "            # Forward pass\n",
        "            test_outputs = net(inputs)\n",
        "            test_loss_size = loss(test_outputs, labels)\n",
        "            total_test_loss += test_loss_size.data.item()\n",
        "        test_loss_hist.append(total_test_loss / len(test_loader))\n",
        "        test_hist_x.append(idx)\n",
        "        print(\"Validation loss = {:.2f}\".format(\n",
        "            total_test_loss / len(test_loader)))\n",
        "\n",
        "    print(\"Training finished, took {:.2f}s\".format(\n",
        "        time.time() - training_start_time))\n",
        "    return train_hist_x, train_loss_hist, test_hist_x, test_loss_hist"
      ],
      "execution_count": 0,
      "outputs": []
    },
    {
      "cell_type": "code",
      "metadata": {
        "id": "NfgPecfyx_Ee",
        "colab_type": "code",
        "outputId": "c9b8bf68-beed-40b6-88bb-9b70321cbdb7",
        "colab": {
          "base_uri": "https://localhost:8080/",
          "height": 571
        }
      },
      "source": [
        "train_hist_x, train_loss_hist, test_hist_x, test_loss_hist = train_model(net)"
      ],
      "execution_count": 13,
      "outputs": [
        {
          "output_type": "stream",
          "text": [
            "Epoch 1, Iteration 20\t train_loss: 0.20 took: 2.57s\n",
            "Epoch 1, Iteration 40\t train_loss: 0.00 took: 2.17s\n",
            "Epoch 1, Iteration 60\t train_loss: 0.00 took: 2.13s\n",
            "Epoch 1, Iteration 80\t train_loss: 0.00 took: 2.13s\n",
            "Epoch 1, Iteration 100\t train_loss: 0.00 took: 2.05s\n",
            "Epoch 1, Iteration 120\t train_loss: 0.00 took: 2.06s\n",
            "Epoch 1, Iteration 140\t train_loss: 0.00 took: 2.00s\n",
            "Epoch 1, Iteration 160\t train_loss: 0.00 took: 1.96s\n",
            "Epoch 1, Iteration 180\t train_loss: 0.00 took: 1.78s\n",
            "Epoch 1, Iteration 200\t train_loss: 0.00 took: 1.88s\n",
            "Epoch 1, Iteration 220\t train_loss: 0.00 took: 1.79s\n",
            "Epoch 1, Iteration 240\t train_loss: 0.00 took: 1.95s\n",
            "Validation loss = 0.00\n",
            "Epoch 2, Iteration 20\t train_loss: 0.00 took: 2.08s\n",
            "Epoch 2, Iteration 40\t train_loss: 0.00 took: 1.76s\n",
            "Epoch 2, Iteration 60\t train_loss: 0.00 took: 1.72s\n",
            "Epoch 2, Iteration 80\t train_loss: 0.00 took: 1.81s\n"
          ],
          "name": "stdout"
        },
        {
          "output_type": "error",
          "ename": "KeyboardInterrupt",
          "evalue": "ignored",
          "traceback": [
            "\u001b[0;31m---------------------------------------------------------------------------\u001b[0m",
            "\u001b[0;31mKeyboardInterrupt\u001b[0m                         Traceback (most recent call last)",
            "\u001b[0;32m<ipython-input-13-278b9ed5a216>\u001b[0m in \u001b[0;36m<module>\u001b[0;34m()\u001b[0m\n\u001b[0;32m----> 1\u001b[0;31m \u001b[0mtrain_hist_x\u001b[0m\u001b[0;34m,\u001b[0m \u001b[0mtrain_loss_hist\u001b[0m\u001b[0;34m,\u001b[0m \u001b[0mtest_hist_x\u001b[0m\u001b[0;34m,\u001b[0m \u001b[0mtest_loss_hist\u001b[0m \u001b[0;34m=\u001b[0m \u001b[0mtrain_model\u001b[0m\u001b[0;34m(\u001b[0m\u001b[0mnet\u001b[0m\u001b[0;34m)\u001b[0m\u001b[0;34m\u001b[0m\u001b[0;34m\u001b[0m\u001b[0m\n\u001b[0m",
            "\u001b[0;32m<ipython-input-12-cca1818d36fe>\u001b[0m in \u001b[0;36mtrain_model\u001b[0;34m(net)\u001b[0m\n\u001b[1;32m     40\u001b[0m             \u001b[0;31m# Get inputs in right form\u001b[0m\u001b[0;34m\u001b[0m\u001b[0;34m\u001b[0m\u001b[0;34m\u001b[0m\u001b[0m\n\u001b[1;32m     41\u001b[0m             \u001b[0minputs\u001b[0m\u001b[0;34m,\u001b[0m \u001b[0mlabels\u001b[0m \u001b[0;34m=\u001b[0m \u001b[0mdata\u001b[0m\u001b[0;34m\u001b[0m\u001b[0;34m\u001b[0m\u001b[0m\n\u001b[0;32m---> 42\u001b[0;31m             \u001b[0minputs\u001b[0m\u001b[0;34m,\u001b[0m \u001b[0mlabels\u001b[0m \u001b[0;34m=\u001b[0m \u001b[0mVariable\u001b[0m\u001b[0;34m(\u001b[0m\u001b[0minputs\u001b[0m\u001b[0;34m)\u001b[0m\u001b[0;34m.\u001b[0m\u001b[0mto\u001b[0m\u001b[0;34m(\u001b[0m\u001b[0mdevice\u001b[0m\u001b[0;34m)\u001b[0m\u001b[0;34m,\u001b[0m \u001b[0mVariable\u001b[0m\u001b[0;34m(\u001b[0m\u001b[0mlabels\u001b[0m\u001b[0;34m)\u001b[0m\u001b[0;34m.\u001b[0m\u001b[0mto\u001b[0m\u001b[0;34m(\u001b[0m\u001b[0mdevice\u001b[0m\u001b[0;34m)\u001b[0m\u001b[0;34m\u001b[0m\u001b[0;34m\u001b[0m\u001b[0m\n\u001b[0m\u001b[1;32m     43\u001b[0m \u001b[0;34m\u001b[0m\u001b[0m\n\u001b[1;32m     44\u001b[0m             \u001b[0;31m# In Pytorch, We need to always remember to set the optimizer gradients to 0 before we recompute the new gradients\u001b[0m\u001b[0;34m\u001b[0m\u001b[0;34m\u001b[0m\u001b[0;34m\u001b[0m\u001b[0m\n",
            "\u001b[0;31mKeyboardInterrupt\u001b[0m: "
          ]
        }
      ]
    },
    {
      "cell_type": "markdown",
      "metadata": {
        "id": "eGUVXKIOyJUn",
        "colab_type": "text"
      },
      "source": [
        "**Loss over time:**"
      ]
    },
    {
      "cell_type": "code",
      "metadata": {
        "id": "z4q31pa9yHuP",
        "colab_type": "code",
        "colab": {}
      },
      "source": [
        "plt.plot(train_hist_x,train_loss_hist)\n",
        "plt.plot(test_hist_x,test_loss_hist)\n",
        "plt.legend(['train loss', 'validation loss'])\n",
        "plt.xlabel('Batch number')\n",
        "plt.ylabel('Loss')\n",
        "plt.show()"
      ],
      "execution_count": 0,
      "outputs": []
    },
    {
      "cell_type": "code",
      "metadata": {
        "id": "02-WUxrvzGc2",
        "colab_type": "code",
        "colab": {}
      },
      "source": [
        "def examine_label(idx):\n",
        "    image, label = test_set[idx]\n",
        "    class_scores = net(Variable(image.unsqueeze(0)).to(device))\n",
        "    prediction = np.argmax(class_scores.cpu().detach().numpy())\n",
        "    disp_image(image, label, prediction)\n",
        "\n",
        "examine_label(20)"
      ],
      "execution_count": 0,
      "outputs": []
    },
    {
      "cell_type": "code",
      "metadata": {
        "id": "nmNg0nprzQAm",
        "colab_type": "code",
        "colab": {}
      },
      "source": [
        "n_correct = 0\n",
        "n_total = 0\n",
        "for i, data in enumerate(train_loader, 0):\n",
        "    # Get inputs in right form\n",
        "    inputs, labels = data\n",
        "    inputs, labels = Variable(inputs).to(device), Variable(labels).to(device)\n",
        "\n",
        "    # Forward pass\n",
        "    outputs = net(inputs)\n",
        "    n_correct += np.sum(np.argmax(outputs.cpu().detach().numpy(), axis=1) == labels.cpu().numpy())\n",
        "    n_total += labels.shape[0]\n",
        "print(\"Training accuracy is\", n_correct/n_total)"
      ],
      "execution_count": 0,
      "outputs": []
    },
    {
      "cell_type": "code",
      "metadata": {
        "id": "gmG5bPk3zVZO",
        "colab_type": "code",
        "colab": {}
      },
      "source": [
        "def get_accuracy(net, loader):\n",
        "    n_correct = 0\n",
        "    n_total = 0\n",
        "    for i, data in enumerate(loader, 0):\n",
        "        # Get inputs in right form\n",
        "        inputs, labels = data\n",
        "        inputs, labels = Variable(inputs).to(device), Variable(labels).to(device)\n",
        "\n",
        "        # Forward pass\n",
        "        outputs = net(inputs)\n",
        "        n_correct += np.sum(np.argmax(outputs.cpu().detach().numpy(), axis=1) == labels.cpu().numpy())\n",
        "        n_total += labels.shape[0]\n",
        "    return n_correct/n_total\n",
        "print(\"Train accuracy is\", get_accuracy(net, train_loader))\n",
        "print(\"Test accuracy is\", get_accuracy(net, test_loader))"
      ],
      "execution_count": 0,
      "outputs": []
    },
    {
      "cell_type": "code",
      "metadata": {
        "id": "edBi_J_pzbcd",
        "colab_type": "code",
        "colab": {}
      },
      "source": [
        "plt.subplots(4, 4)\n",
        "for i in range(net.conv1.weight.shape[0]):\n",
        "    plt.subplot(4, 4, i+1)\n",
        "    kernel = net.conv1.weight[i].cpu().detach().numpy()\n",
        "    im = kernel.mean(axis=0)\n",
        "    plt.pcolor(im, cmap='gray')\n",
        "plt.show()"
      ],
      "execution_count": 0,
      "outputs": []
    },
    {
      "cell_type": "code",
      "metadata": {
        "id": "PhB5MnX5zeBd",
        "colab_type": "code",
        "colab": {}
      },
      "source": [
        ""
      ],
      "execution_count": 0,
      "outputs": []
    }
  ]
}